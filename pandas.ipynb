{
  "nbformat": 4,
  "nbformat_minor": 0,
  "metadata": {
    "colab": {
      "provenance": [],
      "authorship_tag": "ABX9TyNtX5RD2vMC/TklfRyOtSsR",
      "include_colab_link": true
    },
    "kernelspec": {
      "name": "python3",
      "display_name": "Python 3"
    },
    "language_info": {
      "name": "python"
    }
  },
  "cells": [
    {
      "cell_type": "markdown",
      "metadata": {
        "id": "view-in-github",
        "colab_type": "text"
      },
      "source": [
        "<a href=\"https://colab.research.google.com/github/kaan-sirin/notebooks/blob/main/pandas.ipynb\" target=\"_parent\"><img src=\"https://colab.research.google.com/assets/colab-badge.svg\" alt=\"Open In Colab\"/></a>"
      ]
    },
    {
      "cell_type": "markdown",
      "source": [
        "# Part 1 - Installation and Loading Data"
      ],
      "metadata": {
        "id": "3EFWF-Y5PtPk"
      }
    },
    {
      "cell_type": "markdown",
      "source": [
        "Import pandas:\n",
        "\n",
        "\n",
        "```\n",
        "import pandas as pd\n",
        "\n",
        "```\n"
      ],
      "metadata": {
        "id": "LjCX5XiUMm6d"
      }
    },
    {
      "cell_type": "markdown",
      "source": [
        "Loading a csv file into a dataframe:\n",
        "\n",
        "\n",
        "\n",
        "```\n",
        "df = pd.read_csv('example/file/path')\n",
        "```\n",
        "\n",
        "\n"
      ],
      "metadata": {
        "id": "If-Np3yeMtmf"
      }
    },
    {
      "cell_type": "markdown",
      "source": [
        "To get dataframe dimensions:\n",
        "\n",
        "```\n",
        "import pandas as pd\n",
        "```\n",
        "\n"
      ],
      "metadata": {
        "id": "K29txBNjNL1j"
      }
    },
    {
      "cell_type": "markdown",
      "source": [
        "For more info about the dataframe (number of columns, data types etc)\n",
        "```\n",
        "df.info()\n",
        "```\n"
      ],
      "metadata": {
        "id": "S7SoDgvsNlUA"
      }
    },
    {
      "cell_type": "markdown",
      "source": [
        "Change setting to show all the columns or rows (call on pd instead of df)\n",
        "```\n",
        "pd.set_option('display.max_columns', col_num)\n",
        "```\n",
        "or\n",
        "\n",
        "```\n",
        "pd.set_option('display.max_rows', row_num)\n",
        "```\n",
        "\n"
      ],
      "metadata": {
        "id": "VaOl7XK8NlRS"
      }
    },
    {
      "cell_type": "markdown",
      "source": [
        "Load the schema to a dataframe. Schema lets you understand the data faster.\n",
        "\n",
        "```\n",
        "schema_df = pd.read_csv('example/file/path')\n",
        "```\n"
      ],
      "metadata": {
        "id": "-KI-5jHyNlIF"
      }
    },
    {
      "cell_type": "markdown",
      "source": [
        "To show the first/last n items of the data\n",
        "\n",
        "```\n",
        "df.head(n)\n",
        "```\n",
        "or\n",
        "```\n",
        "df.tail(n)\n",
        "```\n"
      ],
      "metadata": {
        "id": "MbYrMHhANk9b"
      }
    },
    {
      "cell_type": "markdown",
      "source": [
        "#Part 2 - DataFrame and Series Basics: Selecting Rows and Columns"
      ],
      "metadata": {
        "id": "7MRHjidANkyg"
      }
    },
    {
      "cell_type": "markdown",
      "source": [
        "Panda dataframe is like Python dictionaries with lists as values"
      ],
      "metadata": {
        "id": "nIof4Cg4P_Ns"
      }
    },
    {
      "cell_type": "markdown",
      "source": [
        "Load a dictionary to a DataFrame:\n",
        "```\n",
        "df = pd.DataFrame(dict)\n",
        "```\n"
      ],
      "metadata": {
        "id": "Asl8BS50P_KN"
      }
    },
    {
      "cell_type": "markdown",
      "source": [
        "Get a column\n",
        "\n",
        "```\n",
        "df['col_name']\n",
        "```\n",
        "which returns a so called Series"
      ],
      "metadata": {
        "id": "1DNqlfZmP_G6"
      }
    },
    {
      "cell_type": "markdown",
      "source": [
        "Series in pandas = rows of a single column, so a dataframe is made up of series"
      ],
      "metadata": {
        "id": "3esbBNSQP_Dy"
      }
    },
    {
      "cell_type": "markdown",
      "source": [
        "Get several columns - passin in a  list of column names\n",
        "\n",
        "```\n",
        "df[['col_name1', 'col_name2']]\n",
        "```\n"
      ],
      "metadata": {
        "id": "Bpru52yYiaxz"
      }
    },
    {
      "cell_type": "markdown",
      "source": [
        "Get column names:\n",
        "```\n",
        "df.columns\n",
        "```"
      ],
      "metadata": {
        "id": "8vhmGW0KP-_t"
      }
    },
    {
      "cell_type": "markdown",
      "source": [
        "`iloc` - access rows by integer location\n",
        "\n",
        "- `df.iloc[0]` gives us the first row\n",
        "- `df.iloc[[1,3]]` gives us the second and fourth rows"
      ],
      "metadata": {
        "id": "pyYQp5uDP-8M"
      }
    },
    {
      "cell_type": "markdown",
      "source": [
        "Using `iloc` we can specify both rows and columns, however we cannot access the columns by their names.\n",
        "\n",
        "```\n",
        "df.iloc[[1,3],2]\n",
        "```\n",
        "gives the second and fourth row values for the third column"
      ],
      "metadata": {
        "id": "IeO3CoV7mCp3"
      }
    },
    {
      "cell_type": "markdown",
      "source": [
        "Using `loc` we can access rows and columns by their names:\n",
        "```\n",
        "df.loc[[0,1], ['col_name1', 'col_name2']]\n",
        "```\n"
      ],
      "metadata": {
        "id": "c1v7ndoIP-4U"
      }
    },
    {
      "cell_type": "markdown",
      "source": [
        "We can also use slicing to access rows and columns:\n",
        "```\n",
        "df.loc[1:4, 'col_name']\n",
        "```\n",
        "which will give us every row between the second and fifth rows (including the fifth) of the column `col_name`.\n",
        "\n",
        "Note that slicing is inclusive!"
      ],
      "metadata": {
        "id": "1bvh9gYeo28F"
      }
    },
    {
      "cell_type": "markdown",
      "source": [
        "To get the count of unique values, we use:\n",
        "\n",
        "```\n",
        "df['col_name'].value_counts()\n",
        "```\n"
      ],
      "metadata": {
        "id": "V8g2BINdP-zY"
      }
    },
    {
      "cell_type": "markdown",
      "source": [
        "#Part 3 - Indexes: How to Set, Reset, and Use Indexes\n",
        "*Setting custom indexes and the benefits*"
      ],
      "metadata": {
        "id": "PcWJ9zs6p1lh"
      }
    },
    {
      "cell_type": "markdown",
      "source": [
        "`df.set_index('col_name')` doesn't change the `df` unless you pass in the argument `inplace = True`\n"
      ],
      "metadata": {
        "id": "pZeofIhlp-1p"
      }
    },
    {
      "cell_type": "markdown",
      "source": [
        "Resetting the indexes is done with\n",
        "```\n",
        "df.reset_index(inplace=True)\n",
        "```\n"
      ],
      "metadata": {
        "id": "_LkFWPcep-w_"
      }
    },
    {
      "cell_type": "markdown",
      "source": [
        "We can set the indexes as we load the data by passing in the argument `ìndex_col` in the function `read_csv` as follows:\n",
        "\n",
        "```\n",
        "pd.read_csv('example/file/path', index_col='col_name')\n",
        "```"
      ],
      "metadata": {
        "id": "29yeiiZSp-tE"
      }
    },
    {
      "cell_type": "markdown",
      "source": [
        "Text is truncated in Jupyter by default."
      ],
      "metadata": {
        "id": "upoeHMxCp-og"
      }
    },
    {
      "cell_type": "markdown",
      "source": [
        "To sort the DataFrame by indexes, we use\n",
        "```\n",
        "df.sort_index()\n",
        "```\n",
        "where we can pass in the arguments `inplace`, `ascending` to modify the sorting"
      ],
      "metadata": {
        "id": "yRA6yMkqp-jy"
      }
    },
    {
      "cell_type": "markdown",
      "source": [
        "#Part 4 - Filtering: Using Conditionals to Filter Rows and Columns"
      ],
      "metadata": {
        "id": "NOulYIZ4p-f6"
      }
    },
    {
      "cell_type": "markdown",
      "source": [],
      "metadata": {
        "id": "gajX0sfcp-aq"
      }
    },
    {
      "cell_type": "markdown",
      "source": [],
      "metadata": {
        "id": "k6tQJMcNp-VG"
      }
    },
    {
      "cell_type": "markdown",
      "source": [],
      "metadata": {
        "id": "kHstNxUQp-PL"
      }
    },
    {
      "cell_type": "markdown",
      "source": [],
      "metadata": {
        "id": "y35RKUElp-JW"
      }
    },
    {
      "cell_type": "markdown",
      "source": [],
      "metadata": {
        "id": "eJcMT3e_p-DW"
      }
    },
    {
      "cell_type": "markdown",
      "source": [],
      "metadata": {
        "id": "JsY6-dFqp9_M"
      }
    },
    {
      "cell_type": "markdown",
      "source": [],
      "metadata": {
        "id": "xI8n7s-7p96j"
      }
    }
  ]
}